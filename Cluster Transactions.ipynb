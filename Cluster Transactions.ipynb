{
 "cells": [
  {
   "cell_type": "code",
   "execution_count": 7,
   "metadata": {
    "collapsed": false
   },
   "outputs": [
    {
     "name": "stdout",
     "output_type": "stream",
     "text": [
      "success\n"
     ]
    }
   ],
   "source": [
    "#IMPORT\n",
    "try:\n",
    "    import graphlab as gl\n",
    "    import numpy as np\n",
    "    import graphlab.aggregate as agg\n",
    "    import matplotlib.pyplot as plt\n",
    "    from matplotlib import rcParams\n",
    "    import datetime as dt   \n",
    "    from graphlab import degree_counting\n",
    "    from graphlab import connected_components\n",
    "    from graphlab import pagerank\n",
    "    from graphlab import shortest_path\n",
    "    from graphlab import triangle_counting\n",
    "    from graphlab import label_propagation\n",
    "    from graphlab import kcore\n",
    "    from graphlab import graph_coloring\n",
    "    print('success')\n",
    "except:\n",
    "    raise ImportError(\"Key libraries cannot be loaded.\")"
   ]
  },
  {
   "cell_type": "code",
   "execution_count": 8,
   "metadata": {
    "collapsed": false
   },
   "outputs": [
    {
     "name": "stdout",
     "output_type": "stream",
     "text": [
      "62418698\n",
      "6260\n",
      "SGraph({'num_edges': 6260, 'num_vertices': 10852})\n"
     ]
    }
   ],
   "source": [
    "import os\n",
    "\n",
    "transaction_data = '../code/graph-code/data/blocks_417500_424572/'\n",
    "\n",
    "if os.path.exists('../code/graph-code/data/blocks_417500_424572'):\n",
    "    sf = gl.SFrame(transaction_data)\n",
    "    s = sf.sample(0.0001, seed=1)\n",
    "    df = s.to_dataframe()\n",
    "    df = df[df['input_address'].notnull()]\n",
    "    df = df[df['output_address'].notnull()]\n",
    "    df = df.fillna(0)\n",
    "    sf_transactions = gl.SFrame(df)\n",
    "    g = gl.SGraph().add_edges(sf_transactions, src_field='input_address', dst_field='output_address')\n",
    "    print(len(sf))    \n",
    "    print(len(df))\n",
    "    print(g)\n",
    "else:\n",
    "    print('cant find data')"
   ]
  },
  {
   "cell_type": "code",
   "execution_count": 9,
   "metadata": {
    "collapsed": false
   },
   "outputs": [
    {
     "name": "stdout",
     "output_type": "stream",
     "text": [
      "6021793\n"
     ]
    }
   ],
   "source": [
    "#LOAD TAGGED DATA\n",
    "\n",
    "import json\n",
    "import pandas as pd\n",
    "\n",
    "whoiswho = '../code/identity_scraper/output/whoiswho.json'\n",
    "blockinfo = '../code/identity_scraper/output/b_info_out.json'\n",
    "explorer = '../code/identity_scraper/output/explorer.json'\n",
    "\n",
    "if os.path.exists('../code/identity_scraper/output/'):\n",
    "    with open(whoiswho) as json_data:\n",
    "        who = json.load(json_data)\n",
    "    with open(blockinfo) as json_data:\n",
    "        block = json.load(json_data) \n",
    "    with open(explorer) as json_data:\n",
    "        explorer = json.load(json_data) \n",
    "else:\n",
    "    print('cant find data')\n",
    "\n",
    "total = who + block + explorer\n",
    "print(len(total))"
   ]
  },
  {
   "cell_type": "code",
   "execution_count": 10,
   "metadata": {
    "collapsed": false
   },
   "outputs": [
    {
     "name": "stdout",
     "output_type": "stream",
     "text": [
      "                              address  category\n",
      "0  15Mb3E3kcTqThNZitaYwWZ7PwZGQwXcUpU         1\n",
      "1  13oPp2XG8PJJUbKUuhQ7ptMC3hnVcc1QzA         1\n",
      "6015728\n"
     ]
    }
   ],
   "source": [
    "#CREATE TAG DATAFRAME\n",
    "import re\n",
    "\n",
    "categories = []\n",
    "for i in total:\n",
    "    addr = re.search(\"'(.*?)'\", str(i)).group(0)\n",
    "    num = re.search('(?<=\\s)[0-9]', str(i)).group(0)\n",
    "    addr.replace(\"'\", \"\")\n",
    "    t_dict = {\n",
    "        'address': addr,\n",
    "        'category': int(num)\n",
    "    }\n",
    "    categories.append(t_dict)\n",
    "\n",
    "df_tags = pd.DataFrame.from_dict(categories)\n",
    "df_tags['address'] = df_tags['address'].map(lambda x: str(x)[:-1])\n",
    "df_tags['address'] = df_tags['address'].map(lambda x: str(x)[1:])\n",
    "df_tags = df_tags.drop_duplicates()\n",
    "print(df_tags.head(n=2))\n",
    "print(len(df_tags))"
   ]
  },
  {
   "cell_type": "code",
   "execution_count": 11,
   "metadata": {
    "collapsed": true
   },
   "outputs": [],
   "source": [
    "df = s.to_dataframe()\n",
    "df = df[df['input_address'].notnull()]\n",
    "df = df[df['output_address'].notnull()]"
   ]
  },
  {
   "cell_type": "code",
   "execution_count": 12,
   "metadata": {
    "collapsed": true
   },
   "outputs": [],
   "source": [
    "#ADD TAGS TO TRANSACTION RECORDS\n",
    "df_transactions = df\n",
    "df_transactions = (pd.merge(df_transactions, df_tags.groupby(['address', 'category'])['category'].size().unstack()\n",
    "                        .add_prefix('input_')\n",
    "                        .reset_index(), how='left', left_on = 'input_address', right_on = 'address')\n",
    "                        .fillna(0))\n",
    "\n",
    "df_transactions = (pd.merge(df_transactions, df_tags.groupby(['address', 'category'])['category'].size().unstack()\n",
    "                        .add_prefix('output_')\n",
    "                        .reset_index(), how='left', left_on = 'output_address', right_on = 'address')\n",
    "                        .fillna(0))"
   ]
  },
  {
   "cell_type": "code",
   "execution_count": 18,
   "metadata": {
    "collapsed": false
   },
   "outputs": [
    {
     "name": "stdout",
     "output_type": "stream",
     "text": [
      "Index([u'tx_hash', u'coinbase', u'block_hash', u'height', u'timestamp', u'id',\n",
      "       u'value', u'script_type', u'output_address', u'input_address', u'year',\n",
      "       u'month', u'day', u'close-price', u'address_x', u'input_0', u'input_1',\n",
      "       u'input_2', u'input_3', u'input_4', u'input_5', u'input_6',\n",
      "       u'address_y', u'output_0', u'output_1', u'output_2', u'output_3',\n",
      "       u'output_4', u'output_5', u'output_6'],\n",
      "      dtype='object')\n"
     ]
    }
   ],
   "source": [
    "print(df_transactions.columns)"
   ]
  },
  {
   "cell_type": "code",
   "execution_count": 20,
   "metadata": {
    "collapsed": false
   },
   "outputs": [
    {
     "name": "stdout",
     "output_type": "stream",
     "text": [
      "                                             tx_hash coinbase  \\\n",
      "0  74546e559319ec849668561c339d94d109059d531772ba...    False   \n",
      "1  867426ba7ae467249395b308ed983296600dfaae1218f9...    False   \n",
      "2  f42bc58e09f6599bbe8e00deb69746d4015f172ad9557c...    False   \n",
      "3  3983c5d1fd10e23329d48e6b43043ca391efbf4bd156a6...    False   \n",
      "4  4204f912856d9c67b605f9bf00bf35210d3eacc2b51ad0...    False   \n",
      "\n",
      "                                          block_hash  height  \\\n",
      "0  00000000000000000066e02d77d96f495953f35899998c...  423934   \n",
      "1  00000000000000000332a6f2704844bf0531a416ec50bb...  420414   \n",
      "2  0000000000000000018ac2a18dcf812eaba901285aa8f4...  421973   \n",
      "3  000000000000000003d7a64cfecc8fe3be68526dd24b99...  421683   \n",
      "4  00000000000000000052236533a6da5bca91b0e7f564fd...  422513   \n",
      "\n",
      "            timestamp   id      value script_type  \\\n",
      "0 2016-08-06 07:56:10    1   0.006712  pubkeyhash   \n",
      "1 2016-07-12 11:14:29  185   0.000201  pubkeyhash   \n",
      "2 2016-07-23 15:55:45    0   0.744930  pubkeyhash   \n",
      "3 2016-07-21 12:12:18    1  10.120294  pubkeyhash   \n",
      "4 2016-07-27 20:25:49    0   0.011292  pubkeyhash   \n",
      "\n",
      "                       output_address                       input_address  \\\n",
      "0  1HiLdazCbHmuSBYXLQRzmTJMK11LdKHbc4  1Fmkq6TethAVLoTr969gYBjaWLkc4KKDw4   \n",
      "1  14vVsgdtyd5t1obGqB36gioMPf5jcAcxbB  1LNvwRDd71jXsVsKkJqa578fnueexjJWtw   \n",
      "2  1M2VGcg774nFYjNN49x3LYuTxxvGgRPYMR  3Q4BuMDzpevsaqZZpiQjPS6jXBpw9o7p6q   \n",
      "3  1D1nSnkpQugijXGdKL5284fBvGW4ReKGrz  1D1nSnkpQugijXGdKL5284fBvGW4ReKGrz   \n",
      "4  13E5qEFeFxmStu4sHdtQU53RcS8FLKtpGB   1vaQeg8qCXbovmiHhBv2TZYFLmHLYPqQb   \n",
      "\n",
      "     ...     input_5  input_6  address_y  output_0 output_1  output_2  \\\n",
      "0    ...         0.0      0.0          0       0.0      0.0       0.0   \n",
      "1    ...         0.0      0.0          0       0.0      0.0       0.0   \n",
      "2    ...         0.0      0.0          0       0.0      0.0       0.0   \n",
      "3    ...         0.0      0.0          0       0.0      0.0       0.0   \n",
      "4    ...         0.0      0.0          0       0.0      0.0       0.0   \n",
      "\n",
      "   output_3  output_4  output_5  output_6  \n",
      "0       0.0       0.0       0.0       0.0  \n",
      "1       0.0       0.0       0.0       0.0  \n",
      "2       0.0       0.0       0.0       0.0  \n",
      "3       0.0       0.0       0.0       0.0  \n",
      "4       0.0       0.0       0.0       0.0  \n",
      "\n",
      "[5 rows x 30 columns]\n"
     ]
    }
   ],
   "source": [
    "print(df_transactions.head(5))"
   ]
  },
  {
   "cell_type": "code",
   "execution_count": null,
   "metadata": {
    "collapsed": true
   },
   "outputs": [],
   "source": []
  }
 ],
 "metadata": {
  "anaconda-cloud": {},
  "kernelspec": {
   "display_name": "Python [gl-env]",
   "language": "python",
   "name": "Python [gl-env]"
  },
  "language_info": {
   "codemirror_mode": {
    "name": "ipython",
    "version": 2
   },
   "file_extension": ".py",
   "mimetype": "text/x-python",
   "name": "python",
   "nbconvert_exporter": "python",
   "pygments_lexer": "ipython2",
   "version": "2.7.12"
  }
 },
 "nbformat": 4,
 "nbformat_minor": 0
}
