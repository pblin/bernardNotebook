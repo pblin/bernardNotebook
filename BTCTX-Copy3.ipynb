{
 "cells": [
  {
   "cell_type": "code",
   "execution_count": null,
   "metadata": {
    "collapsed": false
   },
   "outputs": [],
   "source": [
    "!apt-get install -y python-qt4"
   ]
  },
  {
   "cell_type": "code",
   "execution_count": 19,
   "metadata": {
    "collapsed": false
   },
   "outputs": [
    {
     "name": "stdout",
     "output_type": "stream",
     "text": [
      "Collecting blockcypher\n",
      "  Downloading blockcypher-1.0.72.tar.gz\n",
      "Collecting requests==2.4.3 (from blockcypher)\n",
      "  Downloading requests-2.4.3-py2.py3-none-any.whl (459kB)\n",
      "\u001b[K    100% |################################| 460kB 2.5MB/s \n",
      "\u001b[?25hCollecting python-dateutil==2.2 (from blockcypher)\n",
      "  Downloading python-dateutil-2.2.tar.gz (259kB)\n",
      "\u001b[K    100% |################################| 266kB 3.8MB/s \n",
      "\u001b[?25hCollecting bitcoin==1.1.39 (from blockcypher)\n",
      "  Downloading bitcoin-1.1.39.tar.gz\n",
      "Requirement already satisfied (use --upgrade to upgrade): six in /usr/local/lib/python2.7/dist-packages (from python-dateutil==2.2->blockcypher)\n",
      "Building wheels for collected packages: blockcypher, python-dateutil, bitcoin\n",
      "  Running setup.py bdist_wheel for blockcypher ... \u001b[?25l-\b \bdone\n",
      "\u001b[?25h  Stored in directory: /root/.cache/pip/wheels/0f/07/ab/71c5afd06c7700a49b9f49e75363e3a2ab1daf3be0afb49eb9\n",
      "  Running setup.py bdist_wheel for python-dateutil ... \u001b[?25l-\b \bdone\n",
      "\u001b[?25h  Stored in directory: /root/.cache/pip/wheels/1f/0e/b1/c2af9598a2c3d7bf50ba78eb60ac2032de17b885d7b79fdede\n",
      "  Running setup.py bdist_wheel for bitcoin ... \u001b[?25l-\b \bdone\n",
      "\u001b[?25h  Stored in directory: /root/.cache/pip/wheels/7e/9d/7a/a80ad9e9766b6871daf0228520b68d09b9fe2ebb243d7cf267\n",
      "Successfully built blockcypher python-dateutil bitcoin\n",
      "Installing collected packages: requests, python-dateutil, bitcoin, blockcypher\n",
      "  Found existing installation: requests 2.9.1\n",
      "    Uninstalling requests-2.9.1:\n",
      "      Successfully uninstalled requests-2.9.1\n",
      "  Found existing installation: python-dateutil 2.5.0\n",
      "    Uninstalling python-dateutil-2.5.0:\n",
      "      Successfully uninstalled python-dateutil-2.5.0\n",
      "  Found existing installation: bitcoin 1.1.42\n",
      "    Uninstalling bitcoin-1.1.42:\n",
      "      Successfully uninstalled bitcoin-1.1.42\n",
      "Successfully installed bitcoin-1.1.39 blockcypher-1.0.72 python-dateutil-2.2 requests-2.4.3\n"
     ]
    }
   ],
   "source": [
    "!pip install blockcypher"
   ]
  },
  {
   "cell_type": "code",
   "execution_count": null,
   "metadata": {
    "collapsed": true
   },
   "outputs": [],
   "source": [
    "!pip install bs4"
   ]
  },
  {
   "cell_type": "code",
   "execution_count": 2,
   "metadata": {
    "collapsed": false
   },
   "outputs": [],
   "source": [
    "import datalab.bigquery as bq\n",
    "import pandas as pd\n",
    "import numpy as np\n",
    "import matplotlib.pyplot as plt\n",
    "from matplotlib.dates import num2date\n",
    "from matplotlib.dates import date2num\n",
    "from matplotlib.finance import candlestick_ohlc\n",
    "import json\n",
    "from pprint import pprint\n",
    "from PyQt4 import QtGui, QtCore\n",
    "import urllib\n",
    "import requests\n",
    "import sys\n",
    "import gzip\n",
    "import urllib\n",
    "import datetime\n",
    "import numpy as np\n",
    "import pandas as pd\n",
    "import time\n",
    "import re"
   ]
  },
  {
   "cell_type": "code",
   "execution_count": 3,
   "metadata": {
    "collapsed": true
   },
   "outputs": [],
   "source": [
    "%%sql --module txn\n",
    "select count(txid) as no_of_txn, txnTS from blockchain.userEdges\n",
    "group by txnTS\n"
   ]
  },
  {
   "cell_type": "code",
   "execution_count": 4,
   "metadata": {
    "collapsed": false
   },
   "outputs": [],
   "source": [
    "df = bq.Query(txn).to_dataframe()"
   ]
  },
  {
   "cell_type": "code",
   "execution_count": 5,
   "metadata": {
    "collapsed": false
   },
   "outputs": [
    {
     "data": {
      "text/plain": [
       "<matplotlib.axes._subplots.AxesSubplot at 0x7f74d3be92d0>"
      ]
     },
     "execution_count": 5,
     "metadata": {},
     "output_type": "execute_result"
    },
    {
     "data": {
      "image/png": "[encoded data removed]",
      "text/plain": [
       "<matplotlib.figure.Figure at 0x7f74d4379e90>"
      ]
     },
     "metadata": {},
     "output_type": "display_data"
    }
   ],
   "source": [
    "df.plot(x='txnTS',y='no_of_txn')"
   ]
  },
  {
   "cell_type": "code",
   "execution_count": 6,
   "metadata": {
    "collapsed": false
   },
   "outputs": [],
   "source": [
    "%%sql --module btc_sinks\n",
    "SELECT a.outAddrId, b.address, sum(a.value) as btc_amount\n",
    "FROM (\n",
    "SELECT \n",
    "  outAddrId, value\n",
    "FROM [plasma-centaur-859:blockchain.userEdges]\n",
    ") a\n",
    "JOIN EACH (\n",
    "SELECT\n",
    "  id, address\n",
    "FROM\n",
    "  [plasma-centaur-859:blockchain.address] \n",
    ") b\n",
    "ON a.outAddrId = b.id\n",
    "WHERE a.outAddrId = b.id\n",
    "GROUP BY 1,2\n",
    "ORDER BY 3 DESC\n",
    "LIMIT 500\n"
   ]
  },
  {
   "cell_type": "code",
   "execution_count": 7,
   "metadata": {
    "collapsed": false
   },
   "outputs": [],
   "source": [
    "topSinks=bq.Query(btc_sinks).to_dataframe()"
   ]
  },
  {
   "cell_type": "code",
   "execution_count": 8,
   "metadata": {
    "collapsed": false
   },
   "outputs": [
    {
     "data": {
      "text/html": [
       "<div>\n",
       "<table border=\"1\" class=\"dataframe\">\n",
       "  <thead>\n",
       "    <tr style=\"text-align: right;\">\n",
       "      <th></th>\n",
       "      <th>a_outAddrId</th>\n",
       "      <th>b_address</th>\n",
       "      <th>btc_amount</th>\n",
       "    </tr>\n",
       "  </thead>\n",
       "  <tbody>\n",
       "    <tr>\n",
       "      <th>0</th>\n",
       "      <td>2536935</td>\n",
       "      <td>13hKjDXD5WFZreZzfAGFpgajEdMotuxRvk</td>\n",
       "      <td>2.546664e+07</td>\n",
       "    </tr>\n",
       "    <tr>\n",
       "      <th>1</th>\n",
       "      <td>2298461</td>\n",
       "      <td>17URSNmoNqAunWUa3fi6rx22s8BJkAEkPT</td>\n",
       "      <td>5.706508e+06</td>\n",
       "    </tr>\n",
       "    <tr>\n",
       "      <th>2</th>\n",
       "      <td>7996957</td>\n",
       "      <td>19Hx7xow6RKTcqney12KYFsZzKpRib8iG1</td>\n",
       "      <td>5.005462e+06</td>\n",
       "    </tr>\n",
       "    <tr>\n",
       "      <th>3</th>\n",
       "      <td>17322005</td>\n",
       "      <td>17zRM14vC2z4QtSnANdnthY9LYovnfV84Z</td>\n",
       "      <td>3.403557e+06</td>\n",
       "    </tr>\n",
       "    <tr>\n",
       "      <th>4</th>\n",
       "      <td>12557222</td>\n",
       "      <td>18T1hzjughXdG4ucUh8ACDmCYK3baJpCEf</td>\n",
       "      <td>1.771494e+06</td>\n",
       "    </tr>\n",
       "    <tr>\n",
       "      <th>5</th>\n",
       "      <td>11204757</td>\n",
       "      <td>17wWMcge7fWV9r6JCLRc4iVmPnW6yGhNUc</td>\n",
       "      <td>1.573960e+06</td>\n",
       "    </tr>\n",
       "    <tr>\n",
       "      <th>6</th>\n",
       "      <td>19314133</td>\n",
       "      <td>1NQvPqe2op85q9X9hgSY5GxJERmqoSBmCf</td>\n",
       "      <td>1.569076e+06</td>\n",
       "    </tr>\n",
       "    <tr>\n",
       "      <th>7</th>\n",
       "      <td>3524361</td>\n",
       "      <td>1LWBSqy4s7yZrKU6GfFzx7YmsHcXfuksUZ</td>\n",
       "      <td>1.016878e+06</td>\n",
       "    </tr>\n",
       "    <tr>\n",
       "      <th>8</th>\n",
       "      <td>6835733</td>\n",
       "      <td>16YgsR6EGWtx3N2X3c6DvTesrKab9qriu6</td>\n",
       "      <td>9.550461e+05</td>\n",
       "    </tr>\n",
       "    <tr>\n",
       "      <th>9</th>\n",
       "      <td>7033638</td>\n",
       "      <td>14486XytdA6yKh4cGUGzrmxccaSznXeAAD</td>\n",
       "      <td>9.228888e+05</td>\n",
       "    </tr>\n",
       "    <tr>\n",
       "      <th>10</th>\n",
       "      <td>3451099</td>\n",
       "      <td>13SH2dehm6oxFav9dMc7i1NpMsgTVDWbpj</td>\n",
       "      <td>9.014718e+05</td>\n",
       "    </tr>\n",
       "    <tr>\n",
       "      <th>11</th>\n",
       "      <td>3517603</td>\n",
       "      <td>1idWZBys5AVK8PBZL2JHwFVe7vnFCe4Qk</td>\n",
       "      <td>8.582446e+05</td>\n",
       "    </tr>\n",
       "    <tr>\n",
       "      <th>12</th>\n",
       "      <td>13013852</td>\n",
       "      <td>17R1QnCThtmjkFTm7Xbrq14TyhA2thHLSP</td>\n",
       "      <td>8.181718e+05</td>\n",
       "    </tr>\n",
       "    <tr>\n",
       "      <th>13</th>\n",
       "      <td>21419578</td>\n",
       "      <td>1CBhbofpCiHeYekqqvtsD4gN7VRXyy1kV5</td>\n",
       "      <td>7.964936e+05</td>\n",
       "    </tr>\n",
       "    <tr>\n",
       "      <th>14</th>\n",
       "      <td>2817770</td>\n",
       "      <td>18om4X8rebEEGYtigU458Z9v8cFajdXshh</td>\n",
       "      <td>6.133265e+05</td>\n",
       "    </tr>\n",
       "    <tr>\n",
       "      <th>15</th>\n",
       "      <td>3524210</td>\n",
       "      <td>1PFbC2mZTRfeqRFkLRVeWjjHiugmte5Qhi</td>\n",
       "      <td>6.120741e+05</td>\n",
       "    </tr>\n",
       "    <tr>\n",
       "      <th>16</th>\n",
       "      <td>7541063</td>\n",
       "      <td>1Le3GAwGkVYBR2joPoR9gvNEN4NkioxjUa</td>\n",
       "      <td>6.016675e+05</td>\n",
       "    </tr>\n",
       "    <tr>\n",
       "      <th>17</th>\n",
       "      <td>14638723</td>\n",
       "      <td>199Vzi6M2hAt3kcCpBECEJ77vBP3HoMwpk</td>\n",
       "      <td>5.628903e+05</td>\n",
       "    </tr>\n",
       "    <tr>\n",
       "      <th>18</th>\n",
       "      <td>17521219</td>\n",
       "      <td>1Jm6GVytz3p2bYCMTk12YJnQuzjXkUk9XE</td>\n",
       "      <td>5.469190e+05</td>\n",
       "    </tr>\n",
       "    <tr>\n",
       "      <th>19</th>\n",
       "      <td>9650777</td>\n",
       "      <td>1KKUXJLk7nq97Pex8kDaCNkkfmzmhhcs3n</td>\n",
       "      <td>5.275867e+05</td>\n",
       "    </tr>\n",
       "    <tr>\n",
       "      <th>20</th>\n",
       "      <td>6946658</td>\n",
       "      <td>1AqUP2Xd5weNb6BF7Js1Ls5nRHkxq9VXsf</td>\n",
       "      <td>5.235518e+05</td>\n",
       "    </tr>\n",
       "    <tr>\n",
       "      <th>21</th>\n",
       "      <td>7456699</td>\n",
       "      <td>1E8nTpQbBBzWoqMeytFc71DHEp6GnbE6PC</td>\n",
       "      <td>5.163196e+05</td>\n",
       "    </tr>\n",
       "    <tr>\n",
       "      <th>22</th>\n",
       "      <td>2518513</td>\n",
       "      <td>1cXNTyXj4xPGopfYZNY5xfSM1EPJJvBZV</td>\n",
       "      <td>5.000000e+05</td>\n",
       "    </tr>\n",
       "    <tr>\n",
       "      <th>23</th>\n",
       "      <td>2519511</td>\n",
       "      <td>12rHGgwSutCneAtLvd7ES6DLsRkq2jzKLi</td>\n",
       "      <td>4.997207e+05</td>\n",
       "    </tr>\n",
       "    <tr>\n",
       "      <th>24</th>\n",
       "      <td>2525483</td>\n",
       "      <td>1PDwMAYiRWTT75WzaWM2Znhbv1hBNZbv5Y</td>\n",
       "      <td>4.996440e+05</td>\n",
       "    </tr>\n",
       "    <tr>\n",
       "      <th>25</th>\n",
       "      <td>2525946</td>\n",
       "      <td>1GyfGz6eBgCyBDKURQcTeyUZQsqgDHnnqX</td>\n",
       "      <td>4.996091e+05</td>\n",
       "    </tr>\n",
       "    <tr>\n",
       "      <th>26</th>\n",
       "      <td>2526185</td>\n",
       "      <td>1M9WpaCWxb1wNNE5hQ9z5MqNtGcgBLcbiQ</td>\n",
       "      <td>4.994210e+05</td>\n",
       "    </tr>\n",
       "    <tr>\n",
       "      <th>27</th>\n",
       "      <td>2526765</td>\n",
       "      <td>13Jvip8zMJJhqDwd2QCQrm67J1whmpXHeM</td>\n",
       "      <td>4.993230e+05</td>\n",
       "    </tr>\n",
       "    <tr>\n",
       "      <th>28</th>\n",
       "      <td>2529663</td>\n",
       "      <td>1BFT19uGpPz54oXuXUta8Pc1hCNeBNTAnm</td>\n",
       "      <td>4.992596e+05</td>\n",
       "    </tr>\n",
       "    <tr>\n",
       "      <th>29</th>\n",
       "      <td>2530148</td>\n",
       "      <td>1NtKJTXKK2TyZFCHXFUQMz5d14DWyiGi96</td>\n",
       "      <td>4.992596e+05</td>\n",
       "    </tr>\n",
       "    <tr>\n",
       "      <th>...</th>\n",
       "      <td>...</td>\n",
       "      <td>...</td>\n",
       "      <td>...</td>\n",
       "    </tr>\n",
       "    <tr>\n",
       "      <th>470</th>\n",
       "      <td>4679307</td>\n",
       "      <td>1EWrEPLBBzmN3aCePdC6eDCgyPHba4jGsA</td>\n",
       "      <td>8.233352e+04</td>\n",
       "    </tr>\n",
       "    <tr>\n",
       "      <th>471</th>\n",
       "      <td>18005466</td>\n",
       "      <td>1JfsvRuQxF6G32Lh7Z98UQTDd1a27ocvjF</td>\n",
       "      <td>8.210850e+04</td>\n",
       "    </tr>\n",
       "    <tr>\n",
       "      <th>472</th>\n",
       "      <td>897545</td>\n",
       "      <td>1Q4EpJ6eaXDV1mEHx7JgupBuGNi4GBcMbV</td>\n",
       "      <td>8.207771e+04</td>\n",
       "    </tr>\n",
       "    <tr>\n",
       "      <th>473</th>\n",
       "      <td>403754</td>\n",
       "      <td>1JmS4mSnuekrCdxVdPXegSHPW5rCyKF7e</td>\n",
       "      <td>8.200000e+04</td>\n",
       "    </tr>\n",
       "    <tr>\n",
       "      <th>474</th>\n",
       "      <td>8026964</td>\n",
       "      <td>1LLY9XG7BKH4HZuSsbdWHTt69xjv5EA5n4</td>\n",
       "      <td>8.188812e+04</td>\n",
       "    </tr>\n",
       "    <tr>\n",
       "      <th>475</th>\n",
       "      <td>20230628</td>\n",
       "      <td>18DqAVdPZKXSU9LYdXQ6XTrScPVGB7wwCo</td>\n",
       "      <td>8.162420e+04</td>\n",
       "    </tr>\n",
       "    <tr>\n",
       "      <th>476</th>\n",
       "      <td>3285637</td>\n",
       "      <td>18YVk4g4zsCfuvwwCvyDx55MwWhnfZ8ogp</td>\n",
       "      <td>8.148627e+04</td>\n",
       "    </tr>\n",
       "    <tr>\n",
       "      <th>477</th>\n",
       "      <td>50217</td>\n",
       "      <td>1AdWF6yJ7rKcrYdZW9n9MCMjTybcHv47Sb</td>\n",
       "      <td>8.143209e+04</td>\n",
       "    </tr>\n",
       "    <tr>\n",
       "      <th>478</th>\n",
       "      <td>273413</td>\n",
       "      <td>12psyn7ZkSfDEbhaaSFGyEG758ziZVg2xN</td>\n",
       "      <td>8.115400e+04</td>\n",
       "    </tr>\n",
       "    <tr>\n",
       "      <th>479</th>\n",
       "      <td>997706</td>\n",
       "      <td>1GkqY6YQB6WKC9Hjh8oP8yojDufDYRCXkq</td>\n",
       "      <td>8.107425e+04</td>\n",
       "    </tr>\n",
       "    <tr>\n",
       "      <th>480</th>\n",
       "      <td>403755</td>\n",
       "      <td>1F8tZberSXf7YV2nhN3si9apFMZpyETkyB</td>\n",
       "      <td>8.100000e+04</td>\n",
       "    </tr>\n",
       "    <tr>\n",
       "      <th>481</th>\n",
       "      <td>18153098</td>\n",
       "      <td>1NsCT5xaNwLEpHgQgR77yfstcsh6coqgZX</td>\n",
       "      <td>8.079135e+04</td>\n",
       "    </tr>\n",
       "    <tr>\n",
       "      <th>482</th>\n",
       "      <td>3467711</td>\n",
       "      <td>1Ci8tFKti1nh8KN8vBHNS49edc5cP1Rjes</td>\n",
       "      <td>8.059303e+04</td>\n",
       "    </tr>\n",
       "    <tr>\n",
       "      <th>483</th>\n",
       "      <td>36435</td>\n",
       "      <td>1NGFUjKkAXZhRCTf3NiDUgATTmNCYnXykv</td>\n",
       "      <td>8.050695e+04</td>\n",
       "    </tr>\n",
       "    <tr>\n",
       "      <th>484</th>\n",
       "      <td>403645</td>\n",
       "      <td>1NCfY1DQDeU21vaZmN6gSoFvQpNHaoS7Vx</td>\n",
       "      <td>8.043186e+04</td>\n",
       "    </tr>\n",
       "    <tr>\n",
       "      <th>485</th>\n",
       "      <td>17430117</td>\n",
       "      <td>1BfLM9bbKw5cKCaLDPGJ56modQZoduEPmr</td>\n",
       "      <td>8.018158e+04</td>\n",
       "    </tr>\n",
       "    <tr>\n",
       "      <th>486</th>\n",
       "      <td>10359969</td>\n",
       "      <td>1KgeSeM9TS1XVsybdvChR7rh3ddHqU57xY</td>\n",
       "      <td>8.005110e+04</td>\n",
       "    </tr>\n",
       "    <tr>\n",
       "      <th>487</th>\n",
       "      <td>5029424</td>\n",
       "      <td>15SBH6qr4NHuf4Vzgesp4MJ59wPYQ7oyN8</td>\n",
       "      <td>8.003521e+04</td>\n",
       "    </tr>\n",
       "    <tr>\n",
       "      <th>488</th>\n",
       "      <td>6755255</td>\n",
       "      <td>19VjeHFpSrekDPrrW5MibZVv6v5uY644zW</td>\n",
       "      <td>8.000045e+04</td>\n",
       "    </tr>\n",
       "    <tr>\n",
       "      <th>489</th>\n",
       "      <td>138904</td>\n",
       "      <td>17pEgo5Aa9gYWYhQWqRCGo4XgXTXvLKkUx</td>\n",
       "      <td>8.000000e+04</td>\n",
       "    </tr>\n",
       "    <tr>\n",
       "      <th>490</th>\n",
       "      <td>5801849</td>\n",
       "      <td>1PxC86n3caQMKqcn6npuwGCjdHX3knMfF9</td>\n",
       "      <td>8.000000e+04</td>\n",
       "    </tr>\n",
       "    <tr>\n",
       "      <th>491</th>\n",
       "      <td>403756</td>\n",
       "      <td>1F8AqjmXj35MgbkvPe6yiAzP8unr4vTMdb</td>\n",
       "      <td>8.000000e+04</td>\n",
       "    </tr>\n",
       "    <tr>\n",
       "      <th>492</th>\n",
       "      <td>4877153</td>\n",
       "      <td>1Kbt42eyLG7DSiHTFAMB94YiUV2B7BGNAw</td>\n",
       "      <td>7.999898e+04</td>\n",
       "    </tr>\n",
       "    <tr>\n",
       "      <th>493</th>\n",
       "      <td>564231</td>\n",
       "      <td>1NfhUahHrHQBMgV4DjxvXHEbuA8j4cFiiv</td>\n",
       "      <td>7.999800e+04</td>\n",
       "    </tr>\n",
       "    <tr>\n",
       "      <th>494</th>\n",
       "      <td>268527</td>\n",
       "      <td>15Za59Sp36ZW5c5f7dGHK9w7i56jvNEZxr</td>\n",
       "      <td>7.995706e+04</td>\n",
       "    </tr>\n",
       "    <tr>\n",
       "      <th>495</th>\n",
       "      <td>22097213</td>\n",
       "      <td>17Wh6JyZM4K8Gpf7wwqXVdSyTSmuwNQjVG</td>\n",
       "      <td>7.950000e+04</td>\n",
       "    </tr>\n",
       "    <tr>\n",
       "      <th>496</th>\n",
       "      <td>403757</td>\n",
       "      <td>17wwDDkFSsyygHJSAwAVbG1RRVrF3xS293</td>\n",
       "      <td>7.900000e+04</td>\n",
       "    </tr>\n",
       "    <tr>\n",
       "      <th>497</th>\n",
       "      <td>32647318</td>\n",
       "      <td>12H9E9DpRnYDxRRMRmd8nW9mnZNjd8s2yK</td>\n",
       "      <td>7.869300e+04</td>\n",
       "    </tr>\n",
       "    <tr>\n",
       "      <th>498</th>\n",
       "      <td>3025901</td>\n",
       "      <td>19FHRfZAiroNZEqBJjsFemr3NvKdEzJrQ4</td>\n",
       "      <td>7.863082e+04</td>\n",
       "    </tr>\n",
       "    <tr>\n",
       "      <th>499</th>\n",
       "      <td>65395</td>\n",
       "      <td>19DRFyzVhG7CwfAQgn2AcpBtx1vTaTuSiL</td>\n",
       "      <td>7.829894e+04</td>\n",
       "    </tr>\n",
       "  </tbody>\n",
       "</table>\n",
       "<p>500 rows × 3 columns</p>\n",
       "</div>"
      ],
      "text/plain": [
       "     a_outAddrId                           b_address    btc_amount\n",
       "0        2536935  13hKjDXD5WFZreZzfAGFpgajEdMotuxRvk  2.546664e+07\n",
       "1        2298461  17URSNmoNqAunWUa3fi6rx22s8BJkAEkPT  5.706508e+06\n",
       "2        7996957  19Hx7xow6RKTcqney12KYFsZzKpRib8iG1  5.005462e+06\n",
       "3       17322005  17zRM14vC2z4QtSnANdnthY9LYovnfV84Z  3.403557e+06\n",
       "4       12557222  18T1hzjughXdG4ucUh8ACDmCYK3baJpCEf  1.771494e+06\n",
       "5       11204757  17wWMcge7fWV9r6JCLRc4iVmPnW6yGhNUc  1.573960e+06\n",
       "6       19314133  1NQvPqe2op85q9X9hgSY5GxJERmqoSBmCf  1.569076e+06\n",
       "7        3524361  1LWBSqy4s7yZrKU6GfFzx7YmsHcXfuksUZ  1.016878e+06\n",
       "8        6835733  16YgsR6EGWtx3N2X3c6DvTesrKab9qriu6  9.550461e+05\n",
       "9        7033638  14486XytdA6yKh4cGUGzrmxccaSznXeAAD  9.228888e+05\n",
       "10       3451099  13SH2dehm6oxFav9dMc7i1NpMsgTVDWbpj  9.014718e+05\n",
       "11       3517603   1idWZBys5AVK8PBZL2JHwFVe7vnFCe4Qk  8.582446e+05\n",
       "12      13013852  17R1QnCThtmjkFTm7Xbrq14TyhA2thHLSP  8.181718e+05\n",
       "13      21419578  1CBhbofpCiHeYekqqvtsD4gN7VRXyy1kV5  7.964936e+05\n",
       "14       2817770  18om4X8rebEEGYtigU458Z9v8cFajdXshh  6.133265e+05\n",
       "15       3524210  1PFbC2mZTRfeqRFkLRVeWjjHiugmte5Qhi  6.120741e+05\n",
       "16       7541063  1Le3GAwGkVYBR2joPoR9gvNEN4NkioxjUa  6.016675e+05\n",
       "17      14638723  199Vzi6M2hAt3kcCpBECEJ77vBP3HoMwpk  5.628903e+05\n",
       "18      17521219  1Jm6GVytz3p2bYCMTk12YJnQuzjXkUk9XE  5.469190e+05\n",
       "19       9650777  1KKUXJLk7nq97Pex8kDaCNkkfmzmhhcs3n  5.275867e+05\n",
       "20       6946658  1AqUP2Xd5weNb6BF7Js1Ls5nRHkxq9VXsf  5.235518e+05\n",
       "21       7456699  1E8nTpQbBBzWoqMeytFc71DHEp6GnbE6PC  5.163196e+05\n",
       "22       2518513   1cXNTyXj4xPGopfYZNY5xfSM1EPJJvBZV  5.000000e+05\n",
       "23       2519511  12rHGgwSutCneAtLvd7ES6DLsRkq2jzKLi  4.997207e+05\n",
       "24       2525483  1PDwMAYiRWTT75WzaWM2Znhbv1hBNZbv5Y  4.996440e+05\n",
       "25       2525946  1GyfGz6eBgCyBDKURQcTeyUZQsqgDHnnqX  4.996091e+05\n",
       "26       2526185  1M9WpaCWxb1wNNE5hQ9z5MqNtGcgBLcbiQ  4.994210e+05\n",
       "27       2526765  13Jvip8zMJJhqDwd2QCQrm67J1whmpXHeM  4.993230e+05\n",
       "28       2529663  1BFT19uGpPz54oXuXUta8Pc1hCNeBNTAnm  4.992596e+05\n",
       "29       2530148  1NtKJTXKK2TyZFCHXFUQMz5d14DWyiGi96  4.992596e+05\n",
       "..           ...                                 ...           ...\n",
       "470      4679307  1EWrEPLBBzmN3aCePdC6eDCgyPHba4jGsA  8.233352e+04\n",
       "471     18005466  1JfsvRuQxF6G32Lh7Z98UQTDd1a27ocvjF  8.210850e+04\n",
       "472       897545  1Q4EpJ6eaXDV1mEHx7JgupBuGNi4GBcMbV  8.207771e+04\n",
       "473       403754   1JmS4mSnuekrCdxVdPXegSHPW5rCyKF7e  8.200000e+04\n",
       "474      8026964  1LLY9XG7BKH4HZuSsbdWHTt69xjv5EA5n4  8.188812e+04\n",
       "475     20230628  18DqAVdPZKXSU9LYdXQ6XTrScPVGB7wwCo  8.162420e+04\n",
       "476      3285637  18YVk4g4zsCfuvwwCvyDx55MwWhnfZ8ogp  8.148627e+04\n",
       "477        50217  1AdWF6yJ7rKcrYdZW9n9MCMjTybcHv47Sb  8.143209e+04\n",
       "478       273413  12psyn7ZkSfDEbhaaSFGyEG758ziZVg2xN  8.115400e+04\n",
       "479       997706  1GkqY6YQB6WKC9Hjh8oP8yojDufDYRCXkq  8.107425e+04\n",
       "480       403755  1F8tZberSXf7YV2nhN3si9apFMZpyETkyB  8.100000e+04\n",
       "481     18153098  1NsCT5xaNwLEpHgQgR77yfstcsh6coqgZX  8.079135e+04\n",
       "482      3467711  1Ci8tFKti1nh8KN8vBHNS49edc5cP1Rjes  8.059303e+04\n",
       "483        36435  1NGFUjKkAXZhRCTf3NiDUgATTmNCYnXykv  8.050695e+04\n",
       "484       403645  1NCfY1DQDeU21vaZmN6gSoFvQpNHaoS7Vx  8.043186e+04\n",
       "485     17430117  1BfLM9bbKw5cKCaLDPGJ56modQZoduEPmr  8.018158e+04\n",
       "486     10359969  1KgeSeM9TS1XVsybdvChR7rh3ddHqU57xY  8.005110e+04\n",
       "487      5029424  15SBH6qr4NHuf4Vzgesp4MJ59wPYQ7oyN8  8.003521e+04\n",
       "488      6755255  19VjeHFpSrekDPrrW5MibZVv6v5uY644zW  8.000045e+04\n",
       "489       138904  17pEgo5Aa9gYWYhQWqRCGo4XgXTXvLKkUx  8.000000e+04\n",
       "490      5801849  1PxC86n3caQMKqcn6npuwGCjdHX3knMfF9  8.000000e+04\n",
       "491       403756  1F8AqjmXj35MgbkvPe6yiAzP8unr4vTMdb  8.000000e+04\n",
       "492      4877153  1Kbt42eyLG7DSiHTFAMB94YiUV2B7BGNAw  7.999898e+04\n",
       "493       564231  1NfhUahHrHQBMgV4DjxvXHEbuA8j4cFiiv  7.999800e+04\n",
       "494       268527  15Za59Sp36ZW5c5f7dGHK9w7i56jvNEZxr  7.995706e+04\n",
       "495     22097213  17Wh6JyZM4K8Gpf7wwqXVdSyTSmuwNQjVG  7.950000e+04\n",
       "496       403757  17wwDDkFSsyygHJSAwAVbG1RRVrF3xS293  7.900000e+04\n",
       "497     32647318  12H9E9DpRnYDxRRMRmd8nW9mnZNjd8s2yK  7.869300e+04\n",
       "498      3025901  19FHRfZAiroNZEqBJjsFemr3NvKdEzJrQ4  7.863082e+04\n",
       "499        65395  19DRFyzVhG7CwfAQgn2AcpBtx1vTaTuSiL  7.829894e+04\n",
       "\n",
       "[500 rows x 3 columns]"
      ]
     },
     "execution_count": 8,
     "metadata": {},
     "output_type": "execute_result"
    }
   ],
   "source": [
    "topSinks"
   ]
  },
  {
   "cell_type": "code",
   "execution_count": 9,
   "metadata": {
    "collapsed": true
   },
   "outputs": [],
   "source": [
    "#Get relay ip for transactions"
   ]
  },
  {
   "cell_type": "code",
   "execution_count": 10,
   "metadata": {
    "collapsed": true
   },
   "outputs": [],
   "source": [
    "import json\n",
    "from blockcypher import get_address_overview\n",
    "import time"
   ]
  },
  {
   "cell_type": "code",
   "execution_count": 11,
   "metadata": {
    "collapsed": false
   },
   "outputs": [],
   "source": [
    "\n",
    "def getAddressInfo(smallDf, token):\n",
    "  for index, row in smallDf.iterrows():\n",
    "    data = (get_address_overview(row['address'],'btc',token))\n",
    "    final_n_tx = data['final_n_tx']\n",
    "    n_tx = data['n_tx']\n",
    "    unconfirmed_balance = data['unconfirmed_balance']\n",
    "    final_balance = data['final_balance']\n",
    "    balance = data['balance']\n",
    "    total_sent = data['total_sent']\n",
    "    address = data['address']\n",
    "    total_received = data['total_received']\n",
    "    print(address, total_received, balance, final_n_tx, total_sent)\n",
    "    temp = {\n",
    "      \"address\": address,\n",
    "      \"final_n_tx\": final_n_tx,\n",
    "      \"n_tx\": n_tx,\n",
    "      \"unconfirmed_balance\": unconfirmed_balance,\n",
    "      \"final_balance\": final_balance,\n",
    "      \"balance\": balance,\n",
    "      \"total_sent\": total_sent,\n",
    "      \"total_received\": total_received,\n",
    "    }\n",
    "    addresses.append(temp)\n",
    "    #introduce pause\n",
    "    time.sleep (100.0 / 1000.0); \n",
    "    "
   ]
  },
  {
   "cell_type": "code",
   "execution_count": 12,
   "metadata": {
    "collapsed": false
   },
   "outputs": [],
   "source": [
    "addresses=[]\n",
    "df_new1, df_new2, df_new3 = topSinks[:199], topSinks[200:399], topSinks[400:499]"
   ]
  },
  {
   "cell_type": "code",
   "execution_count": 13,
   "metadata": {
    "collapsed": false
   },
   "outputs": [
    {
     "ename": "KeyError",
     "evalue": "'address'",
     "output_type": "error",
     "traceback": [
      "\u001b[0;31m\u001b[0m",
      "\u001b[0;31mKeyError\u001b[0mTraceback (most recent call last)",
      "\u001b[0;32m<ipython-input-13-589e0ae59514>\u001b[0m in \u001b[0;36m<module>\u001b[0;34m()\u001b[0m\n\u001b[1;32m      1\u001b[0m \u001b[0;31m#bypassing API call rate limit\u001b[0m\u001b[0;34m\u001b[0m\u001b[0;34m\u001b[0m\u001b[0m\n\u001b[0;32m----> 2\u001b[0;31m \u001b[0mgetAddressInfo\u001b[0m\u001b[0;34m(\u001b[0m\u001b[0mdf_new1\u001b[0m\u001b[0;34m,\u001b[0m\u001b[0;34m'62aa1f7dbc694b3e939fa8a2b9762f9f'\u001b[0m\u001b[0;34m)\u001b[0m\u001b[0;34m\u001b[0m\u001b[0m\n\u001b[0m",
      "\u001b[0;32m<ipython-input-11-4609f768717b>\u001b[0m in \u001b[0;36mgetAddressInfo\u001b[0;34m(smallDf, token)\u001b[0m\n\u001b[1;32m      2\u001b[0m \u001b[0;32mdef\u001b[0m \u001b[0mgetAddressInfo\u001b[0m\u001b[0;34m(\u001b[0m\u001b[0msmallDf\u001b[0m\u001b[0;34m,\u001b[0m \u001b[0mtoken\u001b[0m\u001b[0;34m)\u001b[0m\u001b[0;34m:\u001b[0m\u001b[0;34m\u001b[0m\u001b[0m\n\u001b[1;32m      3\u001b[0m   \u001b[0;32mfor\u001b[0m \u001b[0mindex\u001b[0m\u001b[0;34m,\u001b[0m \u001b[0mrow\u001b[0m \u001b[0;32min\u001b[0m \u001b[0msmallDf\u001b[0m\u001b[0;34m.\u001b[0m\u001b[0miterrows\u001b[0m\u001b[0;34m(\u001b[0m\u001b[0;34m)\u001b[0m\u001b[0;34m:\u001b[0m\u001b[0;34m\u001b[0m\u001b[0m\n\u001b[0;32m----> 4\u001b[0;31m     \u001b[0mdata\u001b[0m \u001b[0;34m=\u001b[0m \u001b[0;34m(\u001b[0m\u001b[0mget_address_overview\u001b[0m\u001b[0;34m(\u001b[0m\u001b[0mrow\u001b[0m\u001b[0;34m[\u001b[0m\u001b[0;34m'address'\u001b[0m\u001b[0;34m]\u001b[0m\u001b[0;34m,\u001b[0m\u001b[0;34m'btc'\u001b[0m\u001b[0;34m,\u001b[0m\u001b[0mtoken\u001b[0m\u001b[0;34m)\u001b[0m\u001b[0;34m)\u001b[0m\u001b[0;34m\u001b[0m\u001b[0m\n\u001b[0m\u001b[1;32m      5\u001b[0m     \u001b[0mfinal_n_tx\u001b[0m \u001b[0;34m=\u001b[0m \u001b[0mdata\u001b[0m\u001b[0;34m[\u001b[0m\u001b[0;34m'final_n_tx'\u001b[0m\u001b[0;34m]\u001b[0m\u001b[0;34m\u001b[0m\u001b[0m\n\u001b[1;32m      6\u001b[0m     \u001b[0mn_tx\u001b[0m \u001b[0;34m=\u001b[0m \u001b[0mdata\u001b[0m\u001b[0;34m[\u001b[0m\u001b[0;34m'n_tx'\u001b[0m\u001b[0;34m]\u001b[0m\u001b[0;34m\u001b[0m\u001b[0m\n",
      "\u001b[0;32m/usr/local/lib/python2.7/dist-packages/pandas/core/series.pyc\u001b[0m in \u001b[0;36m__getitem__\u001b[0;34m(self, key)\u001b[0m\n\u001b[1;32m    581\u001b[0m         \u001b[0mkey\u001b[0m \u001b[0;34m=\u001b[0m \u001b[0mcom\u001b[0m\u001b[0;34m.\u001b[0m\u001b[0m_apply_if_callable\u001b[0m\u001b[0;34m(\u001b[0m\u001b[0mkey\u001b[0m\u001b[0;34m,\u001b[0m \u001b[0mself\u001b[0m\u001b[0;34m)\u001b[0m\u001b[0;34m\u001b[0m\u001b[0m\n\u001b[1;32m    582\u001b[0m         \u001b[0;32mtry\u001b[0m\u001b[0;34m:\u001b[0m\u001b[0;34m\u001b[0m\u001b[0m\n\u001b[0;32m--> 583\u001b[0;31m             \u001b[0mresult\u001b[0m \u001b[0;34m=\u001b[0m \u001b[0mself\u001b[0m\u001b[0;34m.\u001b[0m\u001b[0mindex\u001b[0m\u001b[0;34m.\u001b[0m\u001b[0mget_value\u001b[0m\u001b[0;34m(\u001b[0m\u001b[0mself\u001b[0m\u001b[0;34m,\u001b[0m \u001b[0mkey\u001b[0m\u001b[0;34m)\u001b[0m\u001b[0;34m\u001b[0m\u001b[0m\n\u001b[0m\u001b[1;32m    584\u001b[0m \u001b[0;34m\u001b[0m\u001b[0m\n\u001b[1;32m    585\u001b[0m             \u001b[0;32mif\u001b[0m \u001b[0;32mnot\u001b[0m \u001b[0mlib\u001b[0m\u001b[0;34m.\u001b[0m\u001b[0misscalar\u001b[0m\u001b[0;34m(\u001b[0m\u001b[0mresult\u001b[0m\u001b[0;34m)\u001b[0m\u001b[0;34m:\u001b[0m\u001b[0;34m\u001b[0m\u001b[0m\n",
      "\u001b[0;32m/usr/local/lib/python2.7/dist-packages/pandas/indexes/base.pyc\u001b[0m in \u001b[0;36mget_value\u001b[0;34m(self, series, key)\u001b[0m\n\u001b[1;32m   1992\u001b[0m                     \u001b[0;32mraise\u001b[0m \u001b[0mInvalidIndexError\u001b[0m\u001b[0;34m(\u001b[0m\u001b[0mkey\u001b[0m\u001b[0;34m)\u001b[0m\u001b[0;34m\u001b[0m\u001b[0m\n\u001b[1;32m   1993\u001b[0m                 \u001b[0;32melse\u001b[0m\u001b[0;34m:\u001b[0m\u001b[0;34m\u001b[0m\u001b[0m\n\u001b[0;32m-> 1994\u001b[0;31m                     \u001b[0;32mraise\u001b[0m \u001b[0me1\u001b[0m\u001b[0;34m\u001b[0m\u001b[0m\n\u001b[0m\u001b[1;32m   1995\u001b[0m             \u001b[0;32mexcept\u001b[0m \u001b[0mException\u001b[0m\u001b[0;34m:\u001b[0m  \u001b[0;31m# pragma: no cover\u001b[0m\u001b[0;34m\u001b[0m\u001b[0m\n\u001b[1;32m   1996\u001b[0m                 \u001b[0;32mraise\u001b[0m \u001b[0me1\u001b[0m\u001b[0;34m\u001b[0m\u001b[0m\n",
      "\u001b[0;31mKeyError\u001b[0m: 'address'"
     ]
    }
   ],
   "source": [
    "#bypassing API call rate limit\n",
    "getAddressInfo(df_new1,'62aa1f7dbc694b3e939fa8a2b9762f9f')"
   ]
  },
  {
   "cell_type": "code",
   "execution_count": null,
   "metadata": {
    "collapsed": true
   },
   "outputs": [],
   "source": [
    "#Get know identities"
   ]
  },
  {
   "cell_type": "code",
   "execution_count": null,
   "metadata": {
    "collapsed": false
   },
   "outputs": [],
   "source": [
    "from bs4 import BeautifulSoup\n",
    "\n",
    "known_addresses = []\n",
    "\n",
    "def lets_get_scraping(url, id):\n",
    "    r = requests.get(url)\n",
    "    soup = BeautifulSoup(r.text, 'html.parser')\n",
    "\n",
    "    for tr in soup.tbody.find_all('tr'):\n",
    "        for strong_tag in tr.find_all('strong'):\n",
    "            if id == 1:\n",
    "                temp = {strong_tag.get_text(): 1}\n",
    "                known_addresses.append(temp)\n",
    "            elif id == 2:\n",
    "                temp = {strong_tag.get_text(): 2}\n",
    "                known_addresses.append(temp)\n",
    "            elif id == 3:\n",
    "                temp = {strong_tag.get_text(): 3}\n",
    "                known_addresses.append(temp)\n",
    "            elif id == 4:\n",
    "                temp = {strong_tag.get_text(): 4}\n",
    "                known_addresses.append(temp)\n",
    "    return known_addresses\n",
    "\n",
    "\n",
    "for i in range(17):\n",
    "    gambling = 'http://bitcoinwhoswho.com/search/index/index/keyword/gambling/page/{0}'.format(i)\n",
    "    lets_get_scraping(gambling, id=1)\n",
    "\n",
    "print('Completed: Gambling')\n",
    "\n",
    "for i in range(2):\n",
    "    charity = 'http://bitcoinwhoswho.com/search/index/index/keyword/charity/page/{0}'.format(i)\n",
    "    lets_get_scraping(charity, id=2)\n",
    "\n",
    "for i in range(34):\n",
    "    charity = 'http://bitcoinwhoswho.com/search/index/index/keyword/donate/page/{0}'.format(i)\n",
    "    lets_get_scraping(charity, id=2)\n",
    "\n",
    "print('Completed: Charity')\n",
    "\n",
    "for i in range(17):\n",
    "    finance = 'http://bitcoinwhoswho.com/search/index/index/keyword/finance/page/{0}'.format(i)\n",
    "    lets_get_scraping(finance, id=3)\n",
    "\n",
    "print('Completed: Finance')\n",
    "\n",
    "for i in range(162):\n",
    "    exchange = 'http://bitcoinwhoswho.com/search/index/index/keyword/exchange/page/{0}'.format(i)\n",
    "    lets_get_scraping(exchange, id=3)"
   ]
  },
  {
   "cell_type": "code",
   "execution_count": null,
   "metadata": {
    "collapsed": true
   },
   "outputs": [],
   "source": [
    "%%sql --module address_with_most_senders\n",
    "SELECT b.address as addr, count (DISTINCT sender) as sender_counts\n",
    "FROM\n",
    "(SELECT \n",
    "  sender, outAddrId\n",
    "FROM [plasma-centaur-859:blockchain.userEdges]\n",
    ") a\n",
    "JOIN EACH (\n",
    "SELECT\n",
    "  id, address\n",
    "FROM\n",
    "  [plasma-centaur-859:blockchain.address] \n",
    ") b\n",
    "ON a.outAddrId = b.id\n",
    "WHERE a.outAddrId = b.id\n",
    "GROUP BY 1\n",
    "ORDER BY 2 DESC\n",
    "LIMIT 20000"
   ]
  },
  {
   "cell_type": "code",
   "execution_count": null,
   "metadata": {
    "collapsed": false
   },
   "outputs": [],
   "source": [
    "most_senderDf=bq.Query(address_with_most_senders).to_dataframe()"
   ]
  },
  {
   "cell_type": "code",
   "execution_count": null,
   "metadata": {
    "collapsed": false
   },
   "outputs": [],
   "source": [
    "Gambling = []\n",
    "Charity = []\n",
    "Finance = []\n",
    "for index, row in most_senderDf.iterrows():\n",
    "  for known in known_addresses:\n",
    "       k = known.keys()[0]\n",
    "       if k == row['addr']:\n",
    "          if known[k] == 1:\n",
    "              Gambling.append(row['addr'])\n",
    "          if known[k] == 2:\n",
    "              Charity.append(row['addr'])\n",
    "          if known[k] == 3:\n",
    "              Finance.append(row['addr'])"
   ]
  },
  {
   "cell_type": "code",
   "execution_count": null,
   "metadata": {
    "collapsed": false
   },
   "outputs": [],
   "source": [
    "print 'number of Gambling -> ' + str(len(Gambling)) \n",
    "print 'number of Charity -> ' + str(len(Charity)) \n",
    "print 'number of Finance -> ' + str(len(Finance)) "
   ]
  },
  {
   "cell_type": "code",
   "execution_count": null,
   "metadata": {
    "collapsed": false
   },
   "outputs": [],
   "source": [
    "Gambling"
   ]
  },
  {
   "cell_type": "code",
   "execution_count": null,
   "metadata": {
    "collapsed": true
   },
   "outputs": [],
   "source": [
    "#Time series analyiss USD/BTC and USD/Gold"
   ]
  },
  {
   "cell_type": "code",
   "execution_count": null,
   "metadata": {
    "collapsed": true
   },
   "outputs": [],
   "source": [
    "def remove_bitcoin_date_duplicates(frame):\n",
    "    \"\"\"\n",
    "    Remove bitcoin date duplicates by using (weighted) aggregation.\n",
    "    \"\"\"\n",
    "    # Aggregate duplicate dates\n",
    "    frame['price'] = frame['price'] * frame['amount']\n",
    "    frame = frame.groupby(level=0).sum()\n",
    "    frame['price'] = np.round(frame['price'] / frame['amount'], 5)\n",
    "    return frame"
   ]
  },
  {
   "cell_type": "code",
   "execution_count": null,
   "metadata": {
    "collapsed": true
   },
   "outputs": [],
   "source": [
    "def convert_to_ohlc(frame, freq='1D'):\n",
    "    \"\"\"\n",
    "    Compute bitcoin OHLC data frame with the given frequency.\n",
    "    @param frame: raw bitcoin price history.\n",
    "    @param freq: target OHLC frequency.\n",
    "    \"\"\"\n",
    "    ohlc = frame['price'].resample(freq).ohlc()\n",
    "    close = frame['price'].resample(freq).last().ffill()\n",
    "    for column in ['open', 'high', 'low', 'close']:\n",
    "        ohlc[column] = np.where(np.isnan(ohlc[column]), close, ohlc[column])\n",
    "    ohlc['amount'] = frame['amount'].resample(freq).last()\n",
    "    ohlc['amount'].fillna(0.0, inplace=True)\n",
    "    return ohlc"
   ]
  },
  {
   "cell_type": "code",
   "execution_count": null,
   "metadata": {
    "collapsed": false
   },
   "outputs": [],
   "source": [
    "#load csv from google cloud storage btc prices\n",
    "%storage read --object gs://testdata-bg-ml/blockchain/mtgoxUSD.csv --variable btcusd"
   ]
  },
  {
   "cell_type": "code",
   "execution_count": null,
   "metadata": {
    "collapsed": false
   },
   "outputs": [],
   "source": [
    "from StringIO import StringIO\n",
    "btcdf=pd.read_csv(StringIO(btcusd), header=None)\n",
    "btcdf.columns = ['dt', 'price', 'amount']\n",
    "btcdf['dt'] = pd.to_datetime(btcdf['dt'], unit='s')"
   ]
  },
  {
   "cell_type": "code",
   "execution_count": null,
   "metadata": {
    "collapsed": false
   },
   "outputs": [],
   "source": [
    "btcdf.set_index(btcdf['dt'], inplace=True)\n",
    "btcdf.sort_index()\n",
    "btcdf=btcdf[['price', 'amount']]"
   ]
  },
  {
   "cell_type": "code",
   "execution_count": null,
   "metadata": {
    "collapsed": false
   },
   "outputs": [],
   "source": [
    "remove_bitcoin_date_duplicates(btcdf)\n",
    "btc_ohlc=convert_to_ohlc(btcdf, freq='1D')\n",
    "btc_ohlc[len(btc_ohlc)-20:len(btc_ohlc)-1]"
   ]
  },
  {
   "cell_type": "code",
   "execution_count": null,
   "metadata": {
    "collapsed": false
   },
   "outputs": [],
   "source": [
    "btc_ohlc['close'].plot()"
   ]
  },
  {
   "cell_type": "code",
   "execution_count": null,
   "metadata": {
    "collapsed": true
   },
   "outputs": [],
   "source": [
    "%%sql --module goldusd\n",
    "SELECT DATE(date) AS dt, price as close\n",
    "FROM blockchain.gold2usdDaily\n",
    "WHERE DATE(date) >= DATE('2010-07-17') AND DATE(date) <= DATE('2014-02-25') \n",
    "ORDER BY dt"
   ]
  },
  {
   "cell_type": "code",
   "execution_count": null,
   "metadata": {
    "collapsed": false
   },
   "outputs": [],
   "source": [
    "golddf=bq.Query(goldusd).to_dataframe().set_index('dt')"
   ]
  },
  {
   "cell_type": "code",
   "execution_count": null,
   "metadata": {
    "collapsed": false
   },
   "outputs": [],
   "source": [
    "golddf.plot()"
   ]
  },
  {
   "cell_type": "code",
   "execution_count": null,
   "metadata": {
    "collapsed": false
   },
   "outputs": [],
   "source": [
    "data = golddf.join(btc_ohlc['close'],how='left', lsuffix='_gold', rsuffix='_btc')\n",
    "data['gold_scaled'] = data['close_gold']/max(data['close_gold'])\n",
    "data['btc_scaled'] = data['close_btc']/max(data['close_btc'])"
   ]
  },
  {
   "cell_type": "code",
   "execution_count": null,
   "metadata": {
    "collapsed": false
   },
   "outputs": [],
   "source": [
    "data_scaled=pd.concat([data['gold_scaled'],data['btc_scaled']],axis=1)\n",
    "data_scaled.plot(figsize=(20,15))"
   ]
  },
  {
   "cell_type": "code",
   "execution_count": null,
   "metadata": {
    "collapsed": false
   },
   "outputs": [],
   "source": [
    "log_return = pd.DataFrame()\n",
    "log_return['gold_return'] = np.log(data['close_gold']/data['close_gold'].shift())\n",
    "log_return['btc_return'] = np.log(data['close_btc']/data['close_btc'].shift())"
   ]
  },
  {
   "cell_type": "code",
   "execution_count": null,
   "metadata": {
    "collapsed": false
   },
   "outputs": [],
   "source": [
    "log_return.describe()"
   ]
  },
  {
   "cell_type": "code",
   "execution_count": null,
   "metadata": {
    "collapsed": false
   },
   "outputs": [],
   "source": [
    "_ = pd.concat([log_return['gold_return'], log_return['btc_return']], axis=1).plot(figsize=(20,15), color='darkgreen')"
   ]
  },
  {
   "cell_type": "code",
   "execution_count": null,
   "metadata": {
    "collapsed": false
   },
   "outputs": [],
   "source": [
    "from pandas.tools.plotting import scatter_matrix\n",
    "_ = scatter_matrix (log_return, figsize=(5,5), diagonal='kde')"
   ]
  },
  {
   "cell_type": "code",
   "execution_count": null,
   "metadata": {
    "collapsed": false
   },
   "outputs": [],
   "source": [
    "log_return.corr()"
   ]
  },
  {
   "cell_type": "code",
   "execution_count": null,
   "metadata": {
    "collapsed": true
   },
   "outputs": [],
   "source": [
    "def getTxnRelayIP(hash):\n",
    "  api_url = \"https://blockchain.info/rawtx/\" + hash\n",
    "  res = requests.get(api_url)\n",
    "  resJson=json.loads(res.text)\n",
    "  print resJson\n",
    "  return resJson['relayed_by']\n"
   ]
  },
  {
   "cell_type": "code",
   "execution_count": null,
   "metadata": {
    "collapsed": false
   },
   "outputs": [],
   "source": [
    "%%sql --module top_value_txns\n",
    "SELECT txnKey\n",
    "FROM [plasma-centaur-859:blockchain.top_100_value_txns]"
   ]
  },
  {
   "cell_type": "code",
   "execution_count": null,
   "metadata": {
    "collapsed": false
   },
   "outputs": [],
   "source": [
    "txn_pd=bq.Query(top_value_txns).to_dataframe()"
   ]
  },
  {
   "cell_type": "code",
   "execution_count": null,
   "metadata": {
    "collapsed": false
   },
   "outputs": [],
   "source": [
    "from geoip import geolite2\n",
    "where = []\n",
    "for index, row in txn_pd.iterrows():\n",
    "  ip = getTxnRelayIP(row['txnKey'])\n",
    "  match = geolite2.lookup(ip)\n",
    "  if match != None:\n",
    "    dict['lat'] = match.location[0]\n",
    "    dict['lon'] = match.location[1]\n",
    "    where.append(dict)\n"
   ]
  },
  {
   "cell_type": "code",
   "execution_count": null,
   "metadata": {
    "collapsed": false
   },
   "outputs": [],
   "source": [
    "getTxnRelayIP('3b7c45eec9810eacb57effef5c2171dc0a6cf35de5d3c19d7d483252b21f97a9')"
   ]
  },
  {
   "cell_type": "code",
   "execution_count": null,
   "metadata": {
    "collapsed": true
   },
   "outputs": [],
   "source": [
    "%%sql --module taxi\n",
    "\n",
    "DEFINE QUERY locations\n",
    "  SELECT FLOAT(pickup_latitude) AS lat, FLOAT(pickup_longitude) AS lon, medallion\n",
    "  FROM [833682135931:nyctaxi.trip_data]\n",
    "\n",
    "DEFINE QUERY geohashes\n",
    "  SELECT lat, lon,\n",
    "         CONCAT(STRING(FLOOR(lat*1000+0.5)/1000), ':', STRING(FLOOR(lon*1000+0.5)/1000)) AS geoid,\n",
    "         medallion\n",
    "  FROM $locations\n",
    "  WHERE lat != 0 AND lon != 0\n",
    "\n",
    "DEFINE QUERY hotspots\n",
    "  SELECT FIRST(lat) AS lat, FIRST(lon) AS lon, COUNT(medallion) AS pickups\n",
    "  FROM $geohashes\n",
    "  WHERE ABS(HASH(medallion)) % 1000 == 1\n",
    "  GROUP BY geoid\n",
    "  ORDER BY pickups DESC\n",
    "  LIMIT 25"
   ]
  },
  {
   "cell_type": "code",
   "execution_count": null,
   "metadata": {
    "collapsed": false
   },
   "outputs": [],
   "source": [
    "%%chart map --fields lat,lon,pickups --data taxi.hotspots\n",
    "showTip: true\n",
    "mapType: normal"
   ]
  }
 ],
 "metadata": {
  "kernelspec": {
   "display_name": "Python 2",
   "language": "python",
   "name": "python2"
  },
  "language_info": {
   "codemirror_mode": {
    "name": "ipython",
    "version": 2
   },
   "file_extension": ".py",
   "mimetype": "text/x-python",
   "name": "python",
   "nbconvert_exporter": "python",
   "pygments_lexer": "ipython2",
   "version": "2.7.9"
  }
 },
 "nbformat": 4,
 "nbformat_minor": 0
}
